{
 "cells": [
  {
   "cell_type": "code",
   "execution_count": 1,
   "id": "4f26175e",
   "metadata": {},
   "outputs": [],
   "source": [
    "import netCDF4 as nc\n",
    "import json\n",
    "import numpy as np\n",
    "import json\n",
    "import os\n",
    "import sys\n",
    "from datetime import date, datetime, timedelta"
   ]
  },
  {
   "cell_type": "code",
   "execution_count": 6,
   "id": "0a2527be",
   "metadata": {},
   "outputs": [],
   "source": [
    "def get_station_settings(station_id):\n",
    "    with open('static/config/mobile_stations.json') as f:\n",
    "        stations = json.load(f)\n",
    "        station = next((s for s in stations if s['id'] == station_id), None)\n",
    "        \n",
    "    print(\"station\")\n",
    "        \n",
    "    return station\n"
   ]
  },
  {
   "cell_type": "code",
   "execution_count": 4,
   "id": "5c2316b6",
   "metadata": {},
   "outputs": [],
   "source": [
    "get_station_settings(\"daudmannsodden\")"
   ]
  }
 ],
 "metadata": {
  "kernelspec": {
   "display_name": "Python 3 (ipykernel)",
   "language": "python",
   "name": "python3"
  },
  "language_info": {
   "codemirror_mode": {
    "name": "ipython",
    "version": 3
   },
   "file_extension": ".py",
   "mimetype": "text/x-python",
   "name": "python",
   "nbconvert_exporter": "python",
   "pygments_lexer": "ipython3",
   "version": "3.10.11"
  }
 },
 "nbformat": 4,
 "nbformat_minor": 5
}
