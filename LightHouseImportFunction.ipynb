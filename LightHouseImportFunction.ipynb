{
 "cells": [
  {
   "cell_type": "code",
   "execution_count": 1,
   "id": "b0444612",
   "metadata": {},
   "outputs": [],
   "source": [
    "import netCDF4 as nc\n",
    "import json\n",
    "import numpy as np\n",
    "import json\n",
    "import os\n",
    "import sys\n",
    "from datetime import date, datetime, timedelta"
   ]
  },
  {
   "cell_type": "code",
   "execution_count": 11,
   "id": "cad17c6e",
   "metadata": {},
   "outputs": [],
   "source": [
    "def get_station_settings(station_id):\n",
    "    with open('static/config/mobile_stations.json') as f:\n",
    "        stations = json.load(f)\n",
    "        station = next((s for s in stations if s['id'] == station_id), None)\n",
    "        \n",
    "    print(station)\n",
    "        \n",
    "    return station\n"
   ]
  },
  {
   "cell_type": "code",
   "execution_count": 12,
   "id": "51420d59",
   "metadata": {},
   "outputs": [
    {
     "name": "stdout",
     "output_type": "stream",
     "text": [
      "None\n"
     ]
    }
   ],
   "source": [
    "get_station_settings(\"daudmannsodden\")"
   ]
  },
  {
   "cell_type": "code",
   "execution_count": 9,
   "id": "486f956c",
   "metadata": {},
   "outputs": [
    {
     "name": "stdout",
     "output_type": "stream",
     "text": [
      "Ok\n"
     ]
    }
   ],
   "source": []
  }
 ],
 "metadata": {
  "kernelspec": {
   "display_name": "Python 3 (ipykernel)",
   "language": "python",
   "name": "python3"
  },
  "language_info": {
   "codemirror_mode": {
    "name": "ipython",
    "version": 3
   },
   "file_extension": ".py",
   "mimetype": "text/x-python",
   "name": "python",
   "nbconvert_exporter": "python",
   "pygments_lexer": "ipython3",
   "version": "3.10.11"
  }
 },
 "nbformat": 4,
 "nbformat_minor": 5
}
